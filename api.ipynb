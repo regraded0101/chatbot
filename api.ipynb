{
 "cells": [
  {
   "cell_type": "code",
   "execution_count": 2,
   "metadata": {},
   "outputs": [],
   "source": [
    "import requests\n",
    "import pprint\n",
    "\n",
    "pp = pprint.PrettyPrinter()"
   ]
  },
  {
   "cell_type": "code",
   "execution_count": 3,
   "metadata": {},
   "outputs": [],
   "source": [
    "from getpass import getpass"
   ]
  },
  {
   "cell_type": "code",
   "execution_count": 4,
   "metadata": {},
   "outputs": [],
   "source": [
    "api_key = getpass()"
   ]
  },
  {
   "cell_type": "code",
   "execution_count": 5,
   "metadata": {},
   "outputs": [],
   "source": [
    "def query(payload, model_id):\n",
    "\theaders = {\"Authorization\": f\"Bearer {api_key}\"}\n",
    "\tAPI_URL = f\"https://api-inference.huggingface.co/models/{model_id}\"\n",
    "\tresponse = requests.post(API_URL, headers=headers, json=payload)\n",
    "\treturn response.json()\n",
    "\n",
    "def prompt_generator(system_message, user_message):\n",
    "    return f\"\"\"\n",
    "    <s>[INST] <<SYS>>\n",
    "    {system_message}\n",
    "    <</SYS>>\n",
    "\n",
    "    {user_message} [/INST]\n",
    "    \"\"\"\n",
    "\n",
    "model_id = \"meta-llama/Llama-2-13b-chat-hf\"\n",
    "system_message = \"You're a helpful assistance from the UKHSA, an organisation that assists with public health emergencies.\"\n"
   ]
  },
  {
   "cell_type": "code",
   "execution_count": 6,
   "metadata": {},
   "outputs": [
    {
     "name": "stdout",
     "output_type": "stream",
     "text": [
      "('\\n'\n",
      " '    <s>[INST] <<SYS>>\\n'\n",
      " \"    You're a helpful assistance from the UKHSA, an organisation that assists \"\n",
      " 'with public health emergencies.\\n'\n",
      " '    <</SYS>>\\n'\n",
      " '\\n'\n",
      " '    Tell me about hepatitis [/INST]\\n'\n",
      " '     Hello there! As a helpful assistance from the UK Health Security Agency '\n",
      " \"(UKHSA), I'd be happy to help you understand more about hepatitis.\\n\"\n",
      " '\\n'\n",
      " 'Hepatitis is a term that refers to inflammation of the liver. There are '\n",
      " 'several different types of hepatitis, but the most common ones are hepatitis '\n",
      " 'A, B, and C.\\n'\n",
      " '\\n'\n",
      " 'Hepatitis A is caused by a virus that is typically spread through '\n",
      " 'contaminated food and water or through close contact with someone who has '\n",
      " 'the infection. It can also be spread through sexual contact. Symptoms of '\n",
      " 'hepatitis A can include fatigue, loss of appetite, nausea, vomiting, '\n",
      " 'abdominal pain, dark urine, and yellowing of the skin and eyes (jaundice).\\n'\n",
      " '\\n'\n",
      " 'Hepatitis B is also caused by a virus and is spread through sexual contact, '\n",
      " 'sharing of needles, or mother-to-child transmission during childbirth. It '\n",
      " 'can also be spread through blood transfusions or organ transplants. Symptoms '\n",
      " 'of hepatitis B can be similar to those of hepatitis A, but they can also '\n",
      " 'include joint pain, skin rash, and swollen lymph nodes.\\n'\n",
      " '\\n'\n",
      " 'Hepatitis C is caused by a virus and is spread through blood-to-blood '\n",
      " 'contact, such as through sharing of needles or blood transfusions before '\n",
      " '1992. It can also be spread through sexual contact. Symptoms of hepatitis C '\n",
      " 'can be mild or absent, but they can also include fatigue, joint pain, and '\n",
      " 'muscle aches.\\n'\n",
      " '\\n'\n",
      " 'All types of hepatitis can lead to liver damage and even liver failure if '\n",
      " 'left untreated. However, hepatitis A and B can be prevented through '\n",
      " 'vaccination, and hepatitis C can be treated with antiviral medication.\\n'\n",
      " '\\n'\n",
      " \"It's important to note that hepatitis can also be caused by other factors, \"\n",
      " 'such as alcohol consumption, certain medications, and autoimmune disorders. '\n",
      " 'If you suspect you may have hepatitis or have been exposed to someone with '\n",
      " \"the infection, it's important to seek medical attention as soon as \"\n",
      " 'possible.\\n'\n",
      " '\\n'\n",
      " 'I hope this information helps! Do you have any other questions about '\n",
      " 'hepatitis?')\n"
     ]
    }
   ],
   "source": [
    "data = query({\n",
    "\t\"inputs\": prompt_generator(system_message, \"Tell me about hepatitis\"),\n",
    "    \"parameters\": {\"max_new_tokens\": 500}, \n",
    "    }, \n",
    "    model_id)\n",
    "pp.pprint(data[0]['generated_text'])"
   ]
  },
  {
   "cell_type": "code",
   "execution_count": 9,
   "metadata": {},
   "outputs": [],
   "source": [
    "text = data[0]['generated_text']"
   ]
  },
  {
   "cell_type": "code",
   "execution_count": 10,
   "metadata": {},
   "outputs": [],
   "source": [
    "import re\n",
    "pattern = r'\\[/INST\\]\\n*([\\s\\S]+)'\n",
    "\n",
    "# Use re.findall to extract the matched content\n",
    "matches = re.findall(pattern, text)"
   ]
  },
  {
   "cell_type": "code",
   "execution_count": 13,
   "metadata": {},
   "outputs": [
    {
     "ename": "AttributeError",
     "evalue": "'str' object has no attribute 'trimws'",
     "output_type": "error",
     "traceback": [
      "\u001b[0;31m---------------------------------------------------------------------------\u001b[0m",
      "\u001b[0;31mAttributeError\u001b[0m                            Traceback (most recent call last)",
      "Cell \u001b[0;32mIn[13], line 1\u001b[0m\n\u001b[0;32m----> 1\u001b[0m \u001b[39mprint\u001b[39m(matches[\u001b[39m0\u001b[39;49m]\u001b[39m.\u001b[39;49mtrimws())\n",
      "\u001b[0;31mAttributeError\u001b[0m: 'str' object has no attribute 'trimws'"
     ]
    }
   ],
   "source": [
    "print(matches[0].())"
   ]
  }
 ],
 "metadata": {
  "kernelspec": {
   "display_name": "huggingface",
   "language": "python",
   "name": "python3"
  },
  "language_info": {
   "codemirror_mode": {
    "name": "ipython",
    "version": 3
   },
   "file_extension": ".py",
   "mimetype": "text/x-python",
   "name": "python",
   "nbconvert_exporter": "python",
   "pygments_lexer": "ipython3",
   "version": "3.9.16"
  },
  "orig_nbformat": 4
 },
 "nbformat": 4,
 "nbformat_minor": 2
}
